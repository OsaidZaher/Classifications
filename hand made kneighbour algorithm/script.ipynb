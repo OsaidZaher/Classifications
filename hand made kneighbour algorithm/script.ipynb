{
 "cells": [
  {
   "cell_type": "markdown",
   "metadata": {},
   "source": [
    "# Hand Made K nearest neighbour\n"
   ]
  },
  {
   "cell_type": "markdown",
   "metadata": {},
   "source": [
    "This code implements a k-Nearest Neighbors (k-NN) model to classify movies as \"good\" or \"bad\" based on their IMDB rating, using features like release year, runtime, meta score, and number of votes. After preprocessing the data (handling missing values, converting types, and splitting into training and validation sets), the model calculates the distance between movies and assigns a label based on the majority label among the k closest neighbors. The output, Validation Accuracy: 1.00, indicates that the model achieved perfect accuracy on the validation set, correctly classifying all movies."
   ]
  },
  {
   "cell_type": "code",
   "execution_count": 1,
   "metadata": {},
   "outputs": [],
   "source": [
    "import pandas as pd\n",
    "from sklearn.model_selection import train_test_split"
   ]
  },
  {
   "cell_type": "code",
   "execution_count": 2,
   "metadata": {},
   "outputs": [],
   "source": [
    "df = pd.read_csv('imbd.csv')"
   ]
  },
  {
   "cell_type": "code",
   "execution_count": 3,
   "metadata": {},
   "outputs": [
    {
     "name": "stdout",
     "output_type": "stream",
     "text": [
      "                                         Poster_Link  \\\n",
      "0  https://m.media-amazon.com/images/M/MV5BMDFkYT...   \n",
      "1  https://m.media-amazon.com/images/M/MV5BM2MyNj...   \n",
      "2  https://m.media-amazon.com/images/M/MV5BMTMxNT...   \n",
      "3  https://m.media-amazon.com/images/M/MV5BMWMwMG...   \n",
      "4  https://m.media-amazon.com/images/M/MV5BMWU4N2...   \n",
      "\n",
      "               Series_Title Released_Year Certificate  Runtime  \\\n",
      "0  The Shawshank Redemption          1994           A  142 min   \n",
      "1             The Godfather          1972           A  175 min   \n",
      "2           The Dark Knight          2008          UA  152 min   \n",
      "3    The Godfather: Part II          1974           A  202 min   \n",
      "4              12 Angry Men          1957           U   96 min   \n",
      "\n",
      "                  Genre  IMDB_Rating  \\\n",
      "0                 Drama          9.3   \n",
      "1          Crime, Drama          9.2   \n",
      "2  Action, Crime, Drama          9.0   \n",
      "3          Crime, Drama          9.0   \n",
      "4          Crime, Drama          9.0   \n",
      "\n",
      "                                            Overview  Meta_score  \\\n",
      "0  Two imprisoned men bond over a number of years...        80.0   \n",
      "1  An organized crime dynasty's aging patriarch t...       100.0   \n",
      "2  When the menace known as the Joker wreaks havo...        84.0   \n",
      "3  The early life and career of Vito Corleone in ...        90.0   \n",
      "4  A jury holdout attempts to prevent a miscarria...        96.0   \n",
      "\n",
      "               Director           Star1           Star2          Star3  \\\n",
      "0        Frank Darabont     Tim Robbins  Morgan Freeman     Bob Gunton   \n",
      "1  Francis Ford Coppola   Marlon Brando       Al Pacino     James Caan   \n",
      "2     Christopher Nolan  Christian Bale    Heath Ledger  Aaron Eckhart   \n",
      "3  Francis Ford Coppola       Al Pacino  Robert De Niro  Robert Duvall   \n",
      "4          Sidney Lumet     Henry Fonda     Lee J. Cobb  Martin Balsam   \n",
      "\n",
      "            Star4  No_of_Votes        Gross  \n",
      "0  William Sadler      2343110   28,341,469  \n",
      "1    Diane Keaton      1620367  134,966,411  \n",
      "2   Michael Caine      2303232  534,858,444  \n",
      "3    Diane Keaton      1129952   57,300,000  \n",
      "4    John Fiedler       689845    4,360,000  \n",
      "Index(['Poster_Link', 'Series_Title', 'Released_Year', 'Certificate',\n",
      "       'Runtime', 'Genre', 'IMDB_Rating', 'Overview', 'Meta_score', 'Director',\n",
      "       'Star1', 'Star2', 'Star3', 'Star4', 'No_of_Votes', 'Gross'],\n",
      "      dtype='object')\n",
      "<class 'pandas.core.frame.DataFrame'>\n",
      "RangeIndex: 1000 entries, 0 to 999\n",
      "Data columns (total 16 columns):\n",
      " #   Column         Non-Null Count  Dtype  \n",
      "---  ------         --------------  -----  \n",
      " 0   Poster_Link    1000 non-null   object \n",
      " 1   Series_Title   1000 non-null   object \n",
      " 2   Released_Year  1000 non-null   object \n",
      " 3   Certificate    899 non-null    object \n",
      " 4   Runtime        1000 non-null   object \n",
      " 5   Genre          1000 non-null   object \n",
      " 6   IMDB_Rating    1000 non-null   float64\n",
      " 7   Overview       1000 non-null   object \n",
      " 8   Meta_score     843 non-null    float64\n",
      " 9   Director       1000 non-null   object \n",
      " 10  Star1          1000 non-null   object \n",
      " 11  Star2          1000 non-null   object \n",
      " 12  Star3          1000 non-null   object \n",
      " 13  Star4          1000 non-null   object \n",
      " 14  No_of_Votes    1000 non-null   int64  \n",
      " 15  Gross          831 non-null    object \n",
      "dtypes: float64(2), int64(1), object(13)\n",
      "memory usage: 125.1+ KB\n",
      "None\n"
     ]
    }
   ],
   "source": [
    "print(df.head())\n",
    "print(df.columns)\n",
    "print(df.info())"
   ]
  },
  {
   "cell_type": "code",
   "execution_count": 97,
   "metadata": {},
   "outputs": [
    {
     "name": "stdout",
     "output_type": "stream",
     "text": [
      "Poster_Link        0\n",
      "Series_Title       0\n",
      "Released_Year      0\n",
      "Certificate      101\n",
      "Runtime            0\n",
      "Genre              0\n",
      "IMDB_Rating        0\n",
      "Overview           0\n",
      "Meta_score       157\n",
      "Director           0\n",
      "Star1              0\n",
      "Star2              0\n",
      "Star3              0\n",
      "Star4              0\n",
      "No_of_Votes        0\n",
      "Gross            169\n",
      "dtype: int64\n"
     ]
    }
   ],
   "source": [
    "missing_values = df.isnull().sum()\n",
    "print(missing_values)"
   ]
  },
  {
   "cell_type": "code",
   "execution_count": 98,
   "metadata": {},
   "outputs": [
    {
     "name": "stdout",
     "output_type": "stream",
     "text": [
      "object\n",
      "0    1994\n",
      "1    1972\n",
      "2    2008\n",
      "3    1974\n",
      "4    1957\n",
      "Name: Released_Year, dtype: object\n"
     ]
    }
   ],
   "source": [
    "print(df.Released_Year.dtype)\n",
    "print(df.Released_Year.head())"
   ]
  },
  {
   "cell_type": "code",
   "execution_count": 99,
   "metadata": {},
   "outputs": [
    {
     "name": "stdout",
     "output_type": "stream",
     "text": [
      "['1994' '1972' '2008' '1974' '1957' '2003' '1993' '2010' '1999' '2001'\n",
      " '1966' '2002' '1990' '1980' '1975' '2020' '2019' '2014' '1998' '1997'\n",
      " '1995' '1991' '1977' '1962' '1954' '1946' '2011' '2006' '2000' '1988'\n",
      " '1985' '1968' '1960' '1942' '1936' '1931' '2018' '2017' '2016' '2012'\n",
      " '2009' '2007' '1984' '1981' '1979' '1971' '1963' '1964' '1950' '1940'\n",
      " '2013' '2005' '2004' '1992' '1987' '1986' '1983' '1976' '1973' '1965'\n",
      " '1959' '1958' '1952' '1948' '1944' '1941' '1927' '1921' '2015' '1996'\n",
      " '1989' '1978' '1961' '1955' '1953' '1925' '1924' '1982' '1967' '1951'\n",
      " '1949' '1939' '1937' '1934' '1928' '1926' '1920' '1970' '1969' '1956'\n",
      " '1947' '1945' '1930' '1938' '1935' '1933' '1932' '1922' '1943' 'PG']\n",
      "1\n"
     ]
    }
   ],
   "source": [
    "print(df['Released_Year'].unique())\n",
    "pg_count = (df['Released_Year'] == 'PG').sum()\n",
    "print(pg_count)\n",
    "\n",
    "df = df[df.Released_Year!='PG']\n",
    "df['Released_Year'] = df['Released_Year'].astype(int)\n"
   ]
  },
  {
   "cell_type": "code",
   "execution_count": 100,
   "metadata": {},
   "outputs": [],
   "source": [
    "df = df.dropna(subset=['Meta_score', 'No_of_Votes', 'Gross'])"
   ]
  },
  {
   "cell_type": "code",
   "execution_count": 101,
   "metadata": {},
   "outputs": [],
   "source": [
    "df['label'] = df['IMDB_Rating'].apply(lambda x: 1 if x >= 7.0 else 0)\n",
    "\n",
    "df['Runtime'] = df['Runtime'].str.replace(\" min\", \"\").astype(float)\n",
    "\n",
    "features = df[['Released_Year', 'Runtime', 'Meta_score', 'No_of_Votes']]\n",
    "\n",
    "labels = df['label']\n"
   ]
  },
  {
   "cell_type": "code",
   "execution_count": 102,
   "metadata": {},
   "outputs": [],
   "source": [
    "training_set, validation_set, training_labels, validation_labels = train_test_split(\n",
    "    features, labels, test_size=0.2, random_state=42\n",
    ")"
   ]
  },
  {
   "cell_type": "code",
   "execution_count": 103,
   "metadata": {},
   "outputs": [],
   "source": [
    "training_set = training_set.to_dict(orient='index')\n",
    "validation_set = validation_set.to_dict(orient='index')\n",
    "training_labels = training_labels.to_dict()\n",
    "validation_labels = validation_labels.to_dict()"
   ]
  },
  {
   "cell_type": "code",
   "execution_count": 104,
   "metadata": {},
   "outputs": [
    {
     "name": "stdout",
     "output_type": "stream",
     "text": [
      "Validation Accuracy: 1.00\n"
     ]
    }
   ],
   "source": [
    "def distance(movie1, movie2):\n",
    "    squared_difference = sum((movie1[key] - movie2[key]) ** 2 for key in movie1)\n",
    "    return squared_difference ** 0.5\n",
    "\n",
    "def classify(unknown, dataset, labels, k):\n",
    "    distances = []\n",
    "    for title, movie in dataset.items():\n",
    "        distance_to_point = distance(movie, unknown)\n",
    "        distances.append([distance_to_point, title])\n",
    "    distances.sort(key=lambda x: x[0])\n",
    "    neighbors = distances[:k]\n",
    "    num_good = sum(1 for neighbor in neighbors if labels[neighbor[1]] == 1)\n",
    "    num_bad = k - num_good\n",
    "    return 1 if num_good > num_bad else 0\n",
    "\n",
    "def find_validation_accuracy(training_set, training_labels, validation_set, validation_labels, k):\n",
    "    num_correct = 0\n",
    "    for movie in validation_set:\n",
    "        predicted = classify(validation_set[movie], training_set, training_labels, k)\n",
    "        actual = validation_labels[movie]\n",
    "        if predicted == actual:\n",
    "            num_correct += 1\n",
    "    return num_correct / len(validation_set)\n",
    "\n",
    "# Running the updated code\n",
    "k = 3  # Number of neighbors\n",
    "accuracy = find_validation_accuracy(training_set, training_labels, validation_set, validation_labels, k)\n",
    "print(f\"Validation Accuracy: {accuracy:.2f}\")\n"
   ]
  }
 ],
 "metadata": {
  "kernelspec": {
   "display_name": "base",
   "language": "python",
   "name": "python3"
  },
  "language_info": {
   "codemirror_mode": {
    "name": "ipython",
    "version": 3
   },
   "file_extension": ".py",
   "mimetype": "text/x-python",
   "name": "python",
   "nbconvert_exporter": "python",
   "pygments_lexer": "ipython3",
   "version": "3.12.7"
  }
 },
 "nbformat": 4,
 "nbformat_minor": 2
}
